{
  "nbformat": 4,
  "nbformat_minor": 0,
  "metadata": {
    "colab": {
      "name": "3 Layer NN.ipynb",
      "version": "0.3.2",
      "views": {},
      "default_view": {},
      "provenance": []
    },
    "kernelspec": {
      "name": "python3",
      "display_name": "Python 3"
    },
    "accelerator": "GPU"
  },
  "cells": [
    {
      "metadata": {
        "id": "m4yVF44GUXkC",
        "colab_type": "code",
        "colab": {
          "autoexec": {
            "startup": false,
            "wait_interval": 0
          },
          "output_extras": [
            {
              "item_id": 2
            }
          ],
          "base_uri": "https://localhost:8080/",
          "height": 85
        },
        "outputId": "9e62d910-2d33-432a-b3c5-b6f299899c39",
        "executionInfo": {
          "status": "ok",
          "timestamp": 1521081188310,
          "user_tz": 240,
          "elapsed": 794,
          "user": {
            "displayName": "Tejas Mahale",
            "photoUrl": "https://lh3.googleusercontent.com/a/default-user=s128",
            "userId": "114671954428120014064"
          }
        }
      },
      "cell_type": "code",
      "source": [
        "import tensorflow as tf\n",
        "from tensorflow.examples.tutorials.mnist import input_data\n",
        "\n",
        "mnist = input_data.read_data_sets(\"tmp/data/\", one_hot=True)\n",
        "\n",
        "n_nodes_hl1 = 500\n",
        "n_nodes_hl2 = 500\n",
        "n_nodes_hl3 = 500\n",
        "\n",
        "n_classes = 10\n",
        "batch_size = 100\n",
        "\n",
        "# input feature size = 28x28 pixels = 784\n",
        "x = tf.placeholder('float', [None, 784])\n",
        "y = tf.placeholder('float')\n",
        "\n"
      ],
      "execution_count": 14,
      "outputs": [
        {
          "output_type": "stream",
          "text": [
            "Extracting tmp/data/train-images-idx3-ubyte.gz\n",
            "Extracting tmp/data/train-labels-idx1-ubyte.gz\n",
            "Extracting tmp/data/t10k-images-idx3-ubyte.gz\n",
            "Extracting tmp/data/t10k-labels-idx1-ubyte.gz\n"
          ],
          "name": "stdout"
        }
      ]
    },
    {
      "metadata": {
        "id": "zejGEHJSfoiI",
        "colab_type": "code",
        "colab": {
          "autoexec": {
            "startup": false,
            "wait_interval": 0
          }
        }
      },
      "cell_type": "code",
      "source": [
        "def neural_network_model(data):\n",
        " # input_data * weights + biases\n",
        "  hidden_l1 = {'weights': tf.Variable(tf.random_normal([784, n_nodes_hl1])),\n",
        "    'biases': tf.Variable(tf.random_normal([n_nodes_hl1]))}\n",
        "\n",
        "  hidden_l2 = {'weights': tf.Variable(tf.random_normal([n_nodes_hl1, n_nodes_hl2])),\n",
        "    'biases': tf.Variable(tf.random_normal([n_nodes_hl2]))}\n",
        "\n",
        "  hidden_l3 = {'weights': tf.Variable(tf.random_normal([n_nodes_hl2, n_nodes_hl3])),\n",
        "    'biases': tf.Variable(tf.random_normal([n_nodes_hl3]))}\n",
        "\n",
        "  output_l = {'weights': tf.Variable(tf.random_normal([n_nodes_hl3, n_classes])),\n",
        "    'biases': tf.Variable(tf.random_normal([n_classes]))}\n",
        "\n",
        "  l1 = tf.add(tf.matmul(data, hidden_l1['weights']), hidden_l1['biases'])\n",
        "  l1 = tf.nn.relu(l1)\n",
        "\n",
        "  l2 = tf.add(tf.matmul(l1, hidden_l2['weights']), hidden_l2['biases'])\n",
        "  l2 = tf.nn.relu(l2)\n",
        "\n",
        "  l3 = tf.add(tf.matmul(l2, hidden_l3['weights']), hidden_l3['biases'])\n",
        "  l3 = tf.nn.relu(l3)\n",
        "\n",
        "  output = tf.add(tf.matmul(l3, output_l['weights']), output_l['biases'])\n",
        "  return output"
      ],
      "execution_count": 0,
      "outputs": []
    },
    {
      "metadata": {
        "id": "uq17ECrSgLN-",
        "colab_type": "code",
        "colab": {
          "autoexec": {
            "startup": false,
            "wait_interval": 0
          }
        }
      },
      "cell_type": "code",
      "source": [
        "def train_neural_network(x):\n",
        " prediction = neural_network_model(x)\n",
        " cost = tf.reduce_mean(tf.nn.softmax_cross_entropy_with_logits(logits=prediction, labels=y))   # v1.0 changes\n",
        "  # optimizer value = 0.001, Adam similar to SGD\n",
        " optimizer = tf.train.AdamOptimizer().minimize(cost)\n",
        " epochs_no = 10\n",
        " \n",
        " with tf.Session() as sess:\n",
        "  sess.run(tf.global_variables_initializer())   # v1.0 changes\n",
        "  \n",
        "  # training\n",
        "  for epoch in range(epochs_no):\n",
        "   epoch_loss = 0\n",
        "   for _ in range(int(mnist.train.num_examples/batch_size)):\n",
        "    epoch_x, epoch_y = mnist.train.next_batch(batch_size)\n",
        "    _, c = sess.run([optimizer, cost], feed_dict = {x: epoch_x, y: epoch_y})\n",
        "      # code that optimizes the weights & biases\n",
        "    epoch_loss += c\n",
        "   print('Epoch', epoch, 'completed out of', epochs_no, 'loss:', epoch_loss)\n",
        "  \n",
        "  # testing\n",
        "  correct = tf.equal(tf.argmax(prediction, 1), tf.argmax(y, 1))\n",
        "  accuracy = tf.reduce_mean(tf.cast(correct, 'float'))\n",
        "  print('Accuracy:', accuracy.eval({x: mnist.test.images, y: mnist.test.labels}))\n"
      ],
      "execution_count": 0,
      "outputs": []
    },
    {
      "metadata": {
        "id": "zTCRZfaYgWkZ",
        "colab_type": "code",
        "colab": {
          "autoexec": {
            "startup": false,
            "wait_interval": 0
          },
          "output_extras": [
            {
              "item_id": 10
            }
          ],
          "base_uri": "https://localhost:8080/",
          "height": 204
        },
        "outputId": "d93c9a7c-abe8-485f-c89a-11fc72e78a56",
        "executionInfo": {
          "status": "ok",
          "timestamp": 1521081240798,
          "user_tz": 240,
          "elapsed": 21086,
          "user": {
            "displayName": "Tejas Mahale",
            "photoUrl": "https://lh3.googleusercontent.com/a/default-user=s128",
            "userId": "114671954428120014064"
          }
        }
      },
      "cell_type": "code",
      "source": [
        "train_neural_network(x)"
      ],
      "execution_count": 17,
      "outputs": [
        {
          "output_type": "stream",
          "text": [
            "Epoch 0 completed out of 10 loss: 1687115.6362457275\n",
            "Epoch 1 completed out of 10 loss: 402824.3716278076\n",
            "Epoch 2 completed out of 10 loss: 216904.4178364575\n",
            "Epoch 3 completed out of 10 loss: 127584.43455350399\n",
            "Epoch 4 completed out of 10 loss: 80845.41239798069\n",
            "Epoch 5 completed out of 10 loss: 47535.23327678561\n",
            "Epoch 6 completed out of 10 loss: 30788.71982054299\n",
            "Epoch 7 completed out of 10 loss: 23774.50089018573\n",
            "Epoch 8 completed out of 10 loss: 20001.852039676793\n",
            "Epoch 9 completed out of 10 loss: 17198.403753983366\n",
            "Accuracy: 0.9493\n"
          ],
          "name": "stdout"
        }
      ]
    },
    {
      "metadata": {
        "id": "m9_TMSqegXma",
        "colab_type": "code",
        "colab": {
          "autoexec": {
            "startup": false,
            "wait_interval": 0
          }
        }
      },
      "cell_type": "code",
      "source": [
        ""
      ],
      "execution_count": 0,
      "outputs": []
    }
  ]
}